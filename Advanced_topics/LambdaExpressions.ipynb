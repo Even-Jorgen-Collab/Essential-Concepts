{
 "cells": [
  {
   "cell_type": "markdown",
   "metadata": {},
   "source": [
    "# Lambda Expressions\n",
    "- Lambda is also known as functional programming.\n",
    "- Lambda expressions is a short block of code which takes in parameters and returns a value. Lambda expressions are similar to methods, but they fo not need a name and they can be implemented right in the body of a method-"
   ]
  },
  {
   "cell_type": "markdown",
   "metadata": {},
   "source": [
    "# Syntax\n",
    "- The simplest lambda expression contains a single paarameter and an expression: <p>\n",
    "&emsp;\n",
    "<code>\n",
    "    paramter -> expression\n",
    "</code><p>\n",
    "- To ise more than one parameter, wrap them in parantheses:<p>\n",
    "&emsp; \n",
    "<code>\n",
    "     (parameter1, parameter2) -> expression\n",
    "</code>\n",
    "\n",
    "- Expressions are limited. They have to immediately return a value, and they cannot contain variables, assignments or statements such as <code>if</code> or <code>for</code>. In order to do more complex operations, a code block can be used with curly braces. If the lambda expression needs to return a value, then the code block should hava a <code>return</code> statement.<p>\n",
    "&emsp;\n",
    "<code>\n",
    "    (parameter1, parameter2) -> { code block }\n",
    "</code>\n"
   ]
  },
  {
   "cell_type": "markdown",
   "metadata": {},
   "source": [
    "# Using Lambda Expressions\n",
    "Lambda expressions are usually passed as parameters to a function:\n",
    "<h3>Example</h3>\n",
    "Use a lambda expression in the <code>ArrayList</code>'s <code>forEach()</code> method to print every item in the list:"
   ]
  },
  {
   "cell_type": "code",
   "execution_count": null,
   "metadata": {},
   "outputs": [],
   "source": [
    "import java.util.ArrayList;\n",
    "/**\n",
    " * Prints all items in numbers\n",
    "*/\n",
    "public class Main {\n",
    "  public static void main(String[] args) {\n",
    "    ArrayList<Integer> numbers = new ArrayList<Integer>();\n",
    "    numbers.add(5);\n",
    "    numbers.add(9);\n",
    "    numbers.add(8);\n",
    "    numbers.add(1);\n",
    "    numbers.forEach( (n) -> { System.out.println(n); } );\n",
    "  }\n",
    "}"
   ]
  },
  {
   "cell_type": "markdown",
   "metadata": {},
   "source": [
    "Lambda expressions can be stored in variables if the variable's type is an interface which has only one method in its body. The lambda expressions should have the same number of parameters and the same return type as that method. Java ha many of these kinds of interfaces built in, such as <code>Consumer</code> interface (found in the <code>java.util</code> package). But it is also possible to create these interfaces yourself.<p>\n",
    "\n",
    "<h3>Example</h3>\n",
    "Creating a method which takes a lambda expression as a parameter:\n"
   ]
  },
  {
   "cell_type": "code",
   "execution_count": null,
   "metadata": {},
   "outputs": [],
   "source": [
    "interface StringFunction {\n",
    "  String run(String str);\n",
    "}\n",
    "\n",
    "public class Main {\n",
    "  public static void main(String[] args) {\n",
    "    StringFunction exclaim = (s) -> s + \"!\";\n",
    "    StringFunction ask = (s) -> s + \"?\";\n",
    "    printFormatted(\"Hello\", exclaim);\n",
    "    printFormatted(\"Hello\", ask);\n",
    "  }\n",
    "  public static void printFormatted(String str, StringFunction format) {\n",
    "    String result = format.run(str);\n",
    "    System.out.println(result);\n",
    "  }\n",
    "}"
   ]
  }
 ],
 "metadata": {
  "kernelspec": {
   "display_name": "Python 3.10.4 64-bit",
   "language": "python",
   "name": "python3"
  },
  "language_info": {
   "name": "python",
   "version": "3.10.4"
  },
  "orig_nbformat": 4,
  "vscode": {
   "interpreter": {
    "hash": "aee8b7b246df8f9039afb4144a1f6fd8d2ca17a180786b69acc140d282b71a49"
   }
  }
 },
 "nbformat": 4,
 "nbformat_minor": 2
}
