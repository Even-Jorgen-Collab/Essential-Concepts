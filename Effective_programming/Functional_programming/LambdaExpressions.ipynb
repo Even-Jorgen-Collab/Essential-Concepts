{
 "cells": [
  {
   "cell_type": "markdown",
   "metadata": {},
   "source": [
    "# Lambda Expressions\n",
    "--------------------------\n",
    "- Lambda is also known as functional programming.\n",
    "- Lambda expressions is a short block of code which takes in parameters and returns a value. Lambda expressions are similar to methods, but they fo not need a name and they can be implemented right in the body of a method."
   ]
  },
  {
   "cell_type": "markdown",
   "metadata": {},
   "source": [
    "# Syntax\n",
    "- The simplest lambda expression contains a single parameter and an expression: <p>\n",
    "&emsp;\n",
    "<code>\n",
    "    paramter -> expression\n",
    "</code><p>\n",
    "- To use more than one parameter, wrap them in parantheses:<p>\n",
    "&emsp; \n",
    "<code>\n",
    "     (parameter1, parameter2) -> expression\n",
    "</code>\n",
    "\n",
    "- Expressions are limited. They have to immediately return a value, and they cannot contain variables, assignments or statements such as <code>if</code> or <code>for</code>. In order to do more complex operations, a code block can be used with curly braces. If the lambda expression needs to return a value, then the code block should hava a <code>return</code> statement.<p>\n",
    "&emsp;\n",
    "<code>\n",
    "    (parameter1, parameter2) -> { code block }\n",
    "</code>\n"
   ]
  },
  {
   "cell_type": "markdown",
   "metadata": {},
   "source": [
    "# Using Lambda Expressions\n",
    "&emsp;&emsp;Lambda expressions are usually passed as parameters to a function:\n",
    "<h3>Example</h3>\n",
    "&emsp;&emsp;Use a lambda expression in the <code>ArrayList</code>'s <code>forEach()</code> method to print every item in the list:"
   ]
  },
  {
   "cell_type": "code",
   "execution_count": 1,
   "metadata": {
    "vscode": {
     "languageId": "java"
    }
   },
   "outputs": [
    {
     "name": "stdout",
     "output_type": "stream",
     "text": [
      "5\n",
      "9\n",
      "8\n",
      "1\n"
     ]
    }
   ],
   "source": [
    "import java.util.ArrayList;\n",
    "\n",
    "public class Main {\n",
    "  public static void main() {\n",
    "    ArrayList<Integer> numbers = new ArrayList<Integer>();\n",
    "    numbers.add(5);\n",
    "    numbers.add(9);\n",
    "    numbers.add(8);\n",
    "    numbers.add(1);\n",
    "    numbers.forEach( (n) -> { System.out.println(n); });\n",
    "  }\n",
    "}\n",
    "Main.main();"
   ]
  },
  {
   "cell_type": "markdown",
   "metadata": {},
   "source": [
    "&emsp;&emsp;Lambda expressions can be stored in variables if the variable's type is an interface which has only one method in its body. The lambda expressions should have the same number of parameters and the same return type as that method. Java ha many of these kinds of interfaces built in, such as <code>Consumer</code> interface (found in the <code>java.util</code> package). But it is also possible to create these interfaces yourself.<p>\n",
    "\n",
    "\n"
   ]
  },
  {
   "cell_type": "markdown",
   "metadata": {},
   "source": [
    "<h3>Example</h3>\n",
    "&emsp;&emsp;Creating a method which takes a lambda expression as a parameter:"
   ]
  },
  {
   "cell_type": "code",
   "execution_count": 2,
   "metadata": {
    "vscode": {
     "languageId": "java"
    }
   },
   "outputs": [
    {
     "name": "stdout",
     "output_type": "stream",
     "text": [
      "Hello!\n",
      "Hello?\n"
     ]
    }
   ],
   "source": [
    "interface StringFunction {\n",
    "  String run(String str);\n",
    "}\n",
    "\n",
    "public class Main {\n",
    "  public static void main() {\n",
    "    StringFunction exclaim = (s) -> s + \"!\";\n",
    "    StringFunction ask = (s) -> s + \"?\";\n",
    "    printFormatted(\"Hello\", exclaim);\n",
    "    printFormatted(\"Hello\", ask);\n",
    "  }\n",
    "  public static void printFormatted(String str, StringFunction format) {\n",
    "    String result = format.run(str);\n",
    "    System.out.println(result);\n",
    "  }\n",
    "}\n",
    "Main.main();"
   ]
  },
  {
   "cell_type": "markdown",
   "metadata": {},
   "source": [
    "<br> \n",
    "\n",
    "## Other Syntaxes Of Lambda Expressions\n",
    "\n",
    "<br>\n",
    "&emsp;&emsp;There are several expressions which has a corresponding simplified <code>Lambda</code> expression. Some of them are:\n",
    "\n",
    "* If-statements\n",
    "* Object method-calls<br>\n",
    "\n",
    "<h3>If-statements:</h3>"
   ]
  },
  {
   "cell_type": "code",
   "execution_count": 3,
   "metadata": {
    "vscode": {
     "languageId": "java"
    }
   },
   "outputs": [
    {
     "name": "stdout",
     "output_type": "stream",
     "text": [
      "36\n"
     ]
    }
   ],
   "source": [
    "public class Main {\n",
    "\n",
    "// Returns the biggest integer\n",
    "    public static int main(int a, int b) {\n",
    "        // if a is greater or equal to b, print a, otherwise print b\n",
    "        return( (a >= b) ? a : b );\n",
    "    }\n",
    "}\n",
    "\n",
    "System.out.println(Main.main(24, 36));"
   ]
  },
  {
   "cell_type": "markdown",
   "metadata": {},
   "source": [
    "<h3>Object method-calls:</h3>"
   ]
  },
  {
   "cell_type": "code",
   "execution_count": 5,
   "metadata": {
    "vscode": {
     "languageId": "java"
    }
   },
   "outputs": [
    {
     "name": "stdout",
     "output_type": "stream",
     "text": [
      "\t* Static method called\n",
      "\t* Ordinary method called\n"
     ]
    }
   ],
   "source": [
    "public interface Calls {\n",
    "    public String call();\n",
    "}\n",
    "\n",
    "public class Main {\n",
    "    public static void main() {\n",
    "        \n",
    "        // Needs instance of Demo to run non static method\n",
    "        Demo demo = new Demo(); \n",
    "        \n",
    "        Calls call1 = Demo::sm;\n",
    "        Calls call2 = demo::om;\n",
    "        \n",
    "        System.out.println(call1.call());\n",
    "        System.out.println(call2.call());\n",
    "    }\n",
    "}\n",
    "\n",
    "public class Demo {\n",
    "    public static String sm() { return \"\\t* Static method called\"; }\n",
    "    public String om() { return \"\\t* Ordinary method called\"; }\n",
    "}\n",
    "\n",
    "Main.main();\n"
   ]
  }
 ],
 "metadata": {
  "argv": [
   "java",
   "-jar",
   "/Library/Frameworks/Python.framework/Versions/3.10/share/jupyter/kernels/java/ijava-1.3.0.jar",
   "{connection_file}"
  ],
  "kernelspec": {
   "display_name": "Java",
   "language": "java",
   "name": "java"
  },
  "language_info": {
   "codemirror_mode": "java",
   "file_extension": ".jshell",
   "mimetype": "text/x-java-source",
   "name": "Java",
   "pygments_lexer": "java",
   "version": "17.0.3+7"
  },
  "vscode": {
   "interpreter": {
    "hash": "aee8b7b246df8f9039afb4144a1f6fd8d2ca17a180786b69acc140d282b71a49"
   }
  }
 },
 "nbformat": 4,
 "nbformat_minor": 2
}
