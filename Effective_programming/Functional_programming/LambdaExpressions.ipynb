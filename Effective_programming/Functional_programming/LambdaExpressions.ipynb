{
 "cells": [
  {
   "cell_type": "markdown",
   "metadata": {},
   "source": [
    "# Lambda Expressions\n",
    "--------------------------\n",
    "- Lambda is also known as functional programming.\n",
    "- Lambda expressions is a short block of code which takes in parameters and returns a value. Lambda expressions are similar to methods, but they fo not need a name and they can be implemented right in the body of a method."
   ]
  },
  {
   "cell_type": "markdown",
   "metadata": {},
   "source": [
    "# Syntax\n",
    "- The simplest lambda expression contains a single paarameter and an expression: <p>\n",
    "&emsp;\n",
    "<code>\n",
    "    paramter -> expression\n",
    "</code><p>\n",
    "- To ise more than one parameter, wrap them in parantheses:<p>\n",
    "&emsp; \n",
    "<code>\n",
    "     (parameter1, parameter2) -> expression\n",
    "</code>\n",
    "\n",
    "- Expressions are limited. They have to immediately return a value, and they cannot contain variables, assignments or statements such as <code>if</code> or <code>for</code>. In order to do more complex operations, a code block can be used with curly braces. If the lambda expression needs to return a value, then the code block should hava a <code>return</code> statement.<p>\n",
    "&emsp;\n",
    "<code>\n",
    "    (parameter1, parameter2) -> { code block }\n",
    "</code>\n"
   ]
  },
  {
   "cell_type": "markdown",
   "metadata": {},
   "source": [
    "# Using Lambda Expressions\n",
    "&emsp;&emsp;Lambda expressions are usually passed as parameters to a function:\n",
    "<h3>Example</h3>\n",
    "&emsp;&emsp;Use a lambda expression in the <code>ArrayList</code>'s <code>forEach()</code> method to print every item in the list:"
   ]
  },
  {
   "cell_type": "code",
   "execution_count": null,
   "metadata": {},
   "outputs": [],
   "source": [
    "import java.util.ArrayList;\n",
    "\n",
    "public class Main {\n",
    "  public static void main() {\n",
    "    ArrayList<Integer> numbers = new ArrayList<Integer>();\n",
    "    numbers.add(5);\n",
    "    numbers.add(9);\n",
    "    numbers.add(8);\n",
    "    numbers.add(1);\n",
    "    numbers.forEach( (n) -> { System.out.println(n); } );\n",
    "  }\n",
    "}\n",
    "Main.main();"
   ]
  },
  {
   "cell_type": "markdown",
   "metadata": {},
   "source": [
    "&emsp;&emsp;Lambda expressions can be stored in variables if the variable's type is an interface which has only one method in its body. The lambda expressions should have the same number of parameters and the same return type as that method. Java ha many of these kinds of interfaces built in, such as <code>Consumer</code> interface (found in the <code>java.util</code> package). But it is also possible to create these interfaces yourself.<p>\n",
    "\n",
    "<h3>Example</h3>\n",
    "&emsp;&emsp;Creating a method which takes a lambda expression as a parameter:\n"
   ]
  },
  {
   "cell_type": "code",
   "execution_count": null,
   "metadata": {},
   "outputs": [],
   "source": [
    "interface StringFunction {\n",
    "  String run(String str);\n",
    "}\n",
    "\n",
    "public class Main {\n",
    "  public static void main() {\n",
    "    StringFunction exclaim = (s) -> s + \"!\";\n",
    "    StringFunction ask = (s) -> s + \"?\";\n",
    "    printFormatted(\"Hello\", exclaim);\n",
    "    printFormatted(\"Hello\", ask);\n",
    "  }\n",
    "  public static void printFormatted(String str, StringFunction format) {\n",
    "    String result = format.run(str);\n",
    "    System.out.println(result);\n",
    "  }\n",
    "}\n",
    "Main.main();"
   ]
  }
 ],
 "metadata": {
  "argv": [
   "java",
   "-jar",
   "/Library/Frameworks/Python.framework/Versions/3.10/share/jupyter/kernels/java/ijava-1.3.0.jar",
   "{connection_file}"
  ],
  "kernelspec": {
   "display_name": "Java",
   "language": "java",
   "name": "java"
  },
  "language_info": {
   "codemirror_mode": "java",
   "file_extension": ".jshell",
   "mimetype": "text/x-java-source",
   "name": "java",
   "pygments_lexer": "java",
   "version": "17.0.3+7"
  },
  "vscode": {
   "interpreter": {
    "hash": "31f2aee4e71d21fbe5cf8b01ff0e069b9275f58929596ceb00d14d90e3e16cd6"
   }
  }
 },
 "nbformat": 4,
 "nbformat_minor": 2
}
