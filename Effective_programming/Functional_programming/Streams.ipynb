{
 "cells": [
  {
   "cell_type": "markdown",
   "metadata": {},
   "source": [
    "# Streams\n",
    "-----------------\n",
    "&emsp;&emsp;The Stream API is used to <i><u>process collections of objects</u></i>. A stream is a sequence of objects that supports various methods which can be pipelined to produce the desired result.<br>\n",
    "The features of Java Stream:\n",
    "\n",
    "* A stream is not a data structure, instead it takes input from the Collections, Arrays or I/O channels.\n",
    "* Streams don't change the original data structure, they only provide the result as per the pipelined methods.\n",
    "* Each intermidate operation is lazily executed and returns a stream as a result, hence various intermidate operations can be pipelined. <b><u>Terminal Operations</u></b> mark the end of the stream and return the result."
   ]
  },
  {
   "cell_type": "code",
   "execution_count": 1,
   "metadata": {},
   "outputs": [],
   "source": [
    "/**\n",
    " * These are the required imports for applying the Steam API\n",
    " */\n",
    "import java.util.Arrays;\n",
    "import java.util.List;\n",
    "import java.util.stream.Collectors; "
   ]
  },
  {
   "cell_type": "markdown",
   "metadata": {},
   "source": [
    "<br>\n",
    "\n",
    "## Different Operations On Streams"
   ]
  },
  {
   "cell_type": "markdown",
   "metadata": {},
   "source": [
    "<br><h3><b>Intermediate Operations:</b></h3>\n",
    "1. <code>map()</code>: <br> The map() method is used to return a stream consisting of the results of applying the given function to the elements of the stream."
   ]
  },
  {
   "cell_type": "code",
   "execution_count": 2,
   "metadata": {},
   "outputs": [
    {
     "name": "stdout",
     "output_type": "stream",
     "text": [
      "[4, 9, 16, 25]\n"
     ]
    }
   ],
   "source": [
    "List<Integer> numbers = Arrays.asList(2,3,4,5);\n",
    "List<Integer> squares = numbers.stream().map(x -> x*x)\n",
    "                                .collect(Collectors.toList());\n",
    "System.out.println(squares);"
   ]
  },
  {
   "cell_type": "markdown",
   "metadata": {},
   "source": [
    "2. <code>filter()</code>: <br> The filter() method is used to select elements which matches a specific condition."
   ]
  },
  {
   "cell_type": "code",
   "execution_count": 3,
   "metadata": {},
   "outputs": [
    {
     "name": "stdout",
     "output_type": "stream",
     "text": [
      "[Sigma, Stream]\n"
     ]
    }
   ],
   "source": [
    "List<String> names = Arrays.asList(\"Sigma\", \"Collection\", \"Stream\");\n",
    "List<String> result = names.stream().filter(s -> s.startsWith(\"S\"))\n",
    "                            .collect(Collectors.toList()); \n",
    "System.out.println(result);"
   ]
  },
  {
   "cell_type": "markdown",
   "metadata": {},
   "source": [
    "3. <code>sorted()</code>: <br> The sorted() method is used to sort the stream."
   ]
  },
  {
   "cell_type": "code",
   "execution_count": 5,
   "metadata": {},
   "outputs": [
    {
     "name": "stdout",
     "output_type": "stream",
     "text": [
      "[Alpha, Beta, Gamma, Omega]\n"
     ]
    }
   ],
   "source": [
    "List<String> names = Arrays.asList(\"Omega\", \"Alpha\", \"Gamma\", \"Beta\");\n",
    "List<String> result = names.stream().sorted()\n",
    "                           .collect(Collectors.toList());\n",
    "System.out.println(result);"
   ]
  },
  {
   "cell_type": "markdown",
   "metadata": {},
   "source": [
    "<br><h3><b>Terminal Operations:</b></h3>\n",
    "1. <code>collect()</code>: <br> The collect() method is used to return the result of the intermediate operations performed on the stream."
   ]
  },
  {
   "cell_type": "code",
   "execution_count": 6,
   "metadata": {},
   "outputs": [
    {
     "name": "stdout",
     "output_type": "stream",
     "text": [
      "[16, 4, 9, 25]\n"
     ]
    }
   ],
   "source": [
    "List<Integer> numbers = Arrays.asList(2,3,4,5,3);\n",
    "Set<Integer> sqares = numbers.stream().map(x -> x*x)\n",
    "                            .collect(Collectors.toSet());\n",
    "System.out.println(sqares);"
   ]
  },
  {
   "cell_type": "markdown",
   "metadata": {},
   "source": [
    "2. <code>forEach()</code>: <br> The forEach() method is used to iterate through every element of the stream."
   ]
  },
  {
   "cell_type": "code",
   "execution_count": 7,
   "metadata": {},
   "outputs": [
    {
     "name": "stdout",
     "output_type": "stream",
     "text": [
      "4  9  16  25  \n"
     ]
    }
   ],
   "source": [
    "String str = \"\";\n",
    "List<Integer> numbers = Arrays.asList(2,3,4,5);\n",
    "numbers.stream().map(x -> x*x)\n",
    "       .forEach(y -> str += (y + \"  \"));\n",
    "System.out.println(str);"
   ]
  },
  {
   "cell_type": "markdown",
   "metadata": {},
   "source": [
    "3. <code>reduce()</code>: <br> The reduce() method is used to reduce the elements of a strea, to a single value. The reduce method tahes a BinaryOperator as a parameter."
   ]
  },
  {
   "cell_type": "code",
   "execution_count": 8,
   "metadata": {},
   "outputs": [
    {
     "name": "stdout",
     "output_type": "stream",
     "text": [
      "14\n"
     ]
    }
   ],
   "source": [
    "List<Integer> numbers = Arrays.asList(2,3,4,5);\n",
    "int evenNumbers = numbers.stream().reduce(0, (ans, i) -> ans+i);\n",
    "System.out.println(evenNumbers);\n",
    "/**\n",
    " * Here, the varuable [int ans] is assigned to 0 as the initial \n",
    " * value and [int i] is added to it.\n",
    " * \n",
    " * evenNumbers = 2+3+4+5 = 14\n",
    " */"
   ]
  },
  {
   "cell_type": "markdown",
   "metadata": {},
   "source": [
    "<br>\n",
    "\n",
    "## Sequential Streams vs. Parallel Streams\n",
    "&emsp;&emsp;The usual <code>stream()</code> method is known as a <b><u>Sequential Stream</u></b>. It has however a sibling, <code>parallelStream()</code> which is known as a <b><u>Parallel Stream</u></b>. <br>\n",
    "\n",
    "&emsp;&emsp;The <code>stream()</code> method is what has been used in the explanations above. The <code>paralellStream()</code> is almost identical, but there is one big difference: <br><br>\n",
    "\n",
    "<h3>Parallel Streams:</h3>\n",
    "\n",
    "* Parallel Streams allows for <b style=\"color:purple\">Multithreading</b>. This is quite pracitcal when we are making big, complex software, where we need our code to be executed as efficiently as possible. This means that Parallel Streams enable us to execute code in parallel on separate threads or cores in the CPU. The final result is the combination of each individual outcome.<br><br>\n",
    "* There is however one disadvantage using Parallel Streams: The order of execution is enirely out of our control. It may change every time we run the program. "
   ]
  },
  {
   "cell_type": "code",
   "execution_count": 9,
   "metadata": {},
   "outputs": [
    {
     "name": "stdout",
     "output_type": "stream",
     "text": [
      "3  4  1  2  \n"
     ]
    }
   ],
   "source": [
    "/**\n",
    " * Note that this code should print the numbers in [List<Integer> numbers]\n",
    " * from element 0 to element n when we use the stream() method. But when we\n",
    " * use parallelStream(), we have no control over which streams finish it's\n",
    " * operation first. Therefore, the printed string does not contain the numbers\n",
    " * in the order they are stored in [List<Integer> numbers].\n",
    " */\n",
    "String str = \"\";\n",
    "List<Integer> numbers = Arrays.asList(1,2,3,4);\n",
    "numbers.parallelStream().forEach(n -> str += n + \"  \");\n",
    "System.out.println(str);"
   ]
  },
  {
   "cell_type": "markdown",
   "metadata": {},
   "source": [
    "<br>\n",
    "\n",
    "## Demonstration of the uses of Stream"
   ]
  },
  {
   "cell_type": "code",
   "execution_count": null,
   "metadata": {},
   "outputs": [],
   "source": [
    "//a simple program to demonstrate the use of stream in java\n",
    "import java.util.*;\n",
    "import java.util.stream.*;\n",
    "  \n",
    "public class Demo {\n",
    "  public static void main() {\n",
    "  \n",
    "\n",
    "    System.out.println(\"Intermidate Operations:\");\n",
    "    System.out.println(\"-----------------------------------------\");\n",
    "\n",
    "\n",
    "    // create a list of integers\n",
    "    List<Integer> number = Arrays.asList(2,3,4,5);\n",
    "  \n",
    "    // demonstration of map method\n",
    "    List<Integer> square = number.stream().map(x -> x*x).\n",
    "                           collect(Collectors.toList());\n",
    "    System.out.println(\"\\t* map(): \" + square);\n",
    "  \n",
    "    // create a list of String\n",
    "    List<String> names =\n",
    "                Arrays.asList(\"Reflection\",\"Collection\",\"Stream\");\n",
    "  \n",
    "    // demonstration of filter method\n",
    "    List<String> result = names.stream().filter(s->s.startsWith(\"S\")).\n",
    "                          collect(Collectors.toList());\n",
    "    System.out.println(\"\\t* filter(): \" + result);\n",
    "  \n",
    "    // demonstration of sorted method\n",
    "    List<String> show =\n",
    "            names.stream().sorted().collect(Collectors.toList());\n",
    "    System.out.println(\"\\t* sorted(): \" + show);\n",
    "\n",
    "\n",
    "    System.out.println(\"\\nTerminal Operations:\");\n",
    "    System.out.println(\"-----------------------------------------\");\n",
    "    \n",
    "\n",
    "    // create a list of integers\n",
    "    List<Integer> numbers = Arrays.asList(2,3,4,5,2);\n",
    "  \n",
    "    // collect method returns a set\n",
    "    Set<Integer> squareSet =\n",
    "         numbers.stream().map(x->x*x).collect(Collectors.toSet());\n",
    "    System.out.println(\"\\t* collect(): \" + squareSet);\n",
    "  \n",
    "    // demonstration of forEach method\n",
    "    final ArrayList<Integer> ints = new ArrayList<Integer>();\n",
    "    numbers.stream().forEach(y -> ints.add(y));\n",
    "    System.out.println(\"\\t* forEach(): \" + ints);\n",
    "  \n",
    "    // demonstration of reduce method\n",
    "    int even = number.stream().reduce(0,(ans,i)-> ans+i);\n",
    "    System.out.println(\"\\t* reduce(): \" + even);\n",
    "  }\n",
    "}\n",
    "\n",
    "Demo.main();"
   ]
  },
  {
   "cell_type": "markdown",
   "metadata": {},
   "source": [
    "<br>\n",
    "\n",
    "## Important Observations\n",
    "1. A <code>stream</code> consists of a <b>source</b> followed by zero or more <b>intermediate methods</b> combeined together (pipelined) and a <b>terminal method</b> to process the objects obtained from the source as per the methods described.\n",
    "2. <code>Stream</code> is used to compute the elements as per the pipelined methods without altering the original value of the object."
   ]
  }
 ],
 "metadata": {
  "kernelspec": {
   "display_name": "Java",
   "language": "java",
   "name": "java"
  },
  "language_info": {
   "codemirror_mode": "java",
   "file_extension": ".jshell",
   "mimetype": "text/x-java-source",
   "name": "java",
   "pygments_lexer": "java",
   "version": "17.0.4.1+1"
  },
  "orig_nbformat": 4,
  "vscode": {
   "interpreter": {
    "hash": "aee8b7b246df8f9039afb4144a1f6fd8d2ca17a180786b69acc140d282b71a49"
   }
  }
 },
 "nbformat": 4,
 "nbformat_minor": 2
}
