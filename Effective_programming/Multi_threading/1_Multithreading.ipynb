{
 "cells": [
  {
   "cell_type": "markdown",
   "metadata": {},
   "source": [
    "# Multithreading\n",
    "--------------------------\n",
    "&emsp;&emsp;Multithreading is a Java feature that allows concurrent execution of two or more parts of a program for maximum utilization of CPU. Each part of such program is called a thread. So, threads are light-weight processes within a process.<p>\n",
    "<h3>Threads can be created by using to mechanisms: </h3>\n",
    "&emsp;&emsp;1. Extending the <code>Thread</code> class <br>\n",
    "&emsp;&emsp;2. Implementing the <code>Runnable</code> interface\n",
    "\n",
    "\n"
   ]
  },
  {
   "cell_type": "markdown",
   "metadata": {},
   "source": [
    "# Extrending the <code>Thread</code> class \n",
    "&emsp;&emsp;We create a class that extends the <code>java.lang.Thread</code> class. This class overrides the <code>run()</code> method available in the the <code>Thread</code> class. A thread begins its life inside the <code>run()</code> method. We create an object of our new class and call <code>start()</code> method to start the execution of a thread. <code>start()</code> invokes the <code>run()</code> method on the <code>Thread</code> object."
   ]
  },
  {
   "cell_type": "code",
   "execution_count": null,
   "metadata": {},
   "outputs": [],
   "source": [
    "// Java code for thread creation by extending\n",
    "// the Thread class\n",
    "class MultithreadingDemo extends Thread {\n",
    "    public void run() {\n",
    "        try {\n",
    "            // Displaying the thread that is running\n",
    "            System.out.println(\"Thread \" + Thread.currentThread().getId() + \" is running\");\n",
    "        }\n",
    "        catch (Exception e) {\n",
    "            // Throwing an exception\n",
    "            System.out.println(\"Exception is caught\");\n",
    "        }\n",
    "    }\n",
    "}\n",
    " \n",
    "// Main Class\n",
    "public class Multithread {\n",
    "    public static void main() {\n",
    "        int n = 5; // Number of threads\n",
    "        for (int i = 0; i < n; i++) {\n",
    "            MultithreadingDemo object\n",
    "                = new MultithreadingDemo();\n",
    "            object.start();\n",
    "        }\n",
    "    }\n",
    "}\n",
    "\n",
    "Multithread.main();"
   ]
  },
  {
   "cell_type": "markdown",
   "metadata": {},
   "source": [
    "# Implementing the <code>Runnable</code> interface\n",
    "&emsp;&emsp;We create a new class which implements <code>java.lang.Runnable</code> interface and override the <code>run()</code> method. Then we instantiate a <code>Thread</code> object and call <code>start()</code> method on this object."
   ]
  },
  {
   "cell_type": "code",
   "execution_count": null,
   "metadata": {},
   "outputs": [],
   "source": [
    "// Java code for thread creation by implementing\n",
    "// the Runnable Interface\n",
    "class MultithreadingDemo implements Runnable {\n",
    "    public void run() {\n",
    "        try {\n",
    "            // Displaying the thread that is running\n",
    "            System.out.println(\"Thread \" + Thread.currentThread().getId() + \" is running\");\n",
    "        }\n",
    "        catch (Exception e) {\n",
    "            // Throwing an exception\n",
    "            System.out.println(\"Exception is caught\");\n",
    "        }\n",
    "    }\n",
    "}\n",
    " \n",
    "// Main Class\n",
    "class Multithread {\n",
    "    public static void main() {\n",
    "        int n = 5; // Number of threads\n",
    "        for (int i = 0; i < n; i++) {\n",
    "            Thread object = new Thread(new MultithreadingDemo());\n",
    "            object.start();\n",
    "        }\n",
    "    }\n",
    "}\n",
    "Multithread.main();"
   ]
  },
  {
   "cell_type": "markdown",
   "metadata": {},
   "source": [
    "# <code>Thread.class</code> vs. <code>Runnable.interface</code>\n",
    "1. If we extend the <code>Thread</code> class, our class cannot extend any other class because Java doesn't support multiple inheritance. But, if we implement the <code>Runnable</code> interface, our class can still extend other base classes.\n",
    "2. We can achieve basic functionality of a thread by extending the <code>Thread</code> class because it provides some inbuilt methods like <code>yield()</code>, <code>interrupt()</code> etc. that are not available in the <code>Runnable</code> interface.\n",
    "3. Using <code>Runnable</code> will give you an object that can be shared amongst multiple threads."
   ]
  }
 ],
 "metadata": {
  "kernelspec": {
   "display_name": "Java",
   "language": "java",
   "name": "java"
  },
  "language_info": {
   "codemirror_mode": "java",
   "file_extension": ".jshell",
   "mimetype": "text/x-java-source",
   "name": "java",
   "pygments_lexer": "java",
   "version": "17.0.3+7"
  },
  "orig_nbformat": 4
 },
 "nbformat": 4,
 "nbformat_minor": 2
}
