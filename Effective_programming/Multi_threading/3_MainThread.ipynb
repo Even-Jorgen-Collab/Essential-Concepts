{
 "cells": [
  {
   "cell_type": "markdown",
   "metadata": {},
   "source": [
    "# Main thread\n",
    "&emsp;&emsp;Java provides built-in support for multithreaded programming. A multi-threaded program contains two or more parts that can run concurrently. Each part of such a program is called a thread, and each thread defines a separate path of execution.<p>\n",
    "When a Java program starts up, one thread begins running immediately. This is usually called the <code>main thread</code> of our program because it is the one that is executed when our program begins. <br>\n",
    "\n",
    "<h4>There are certain properties associated with the main thread which are as follows: </h4>\n",
    "\n",
    "   * It is the thread from which other \"child\" threads will be spawned.&emsp;&emsp;\n",
    "   * Often, it must be the last thread to finish execution because it performs various shutdown actions.<p>\n",
    "&emsp;&emsp;<h4>The flow diagram is as follows:</h4> \n",
    "<img src=https://media.geeksforgeeks.org/wp-content/uploads/main-thread-in-java.jpeg style=\"height:300px; width:auto;\">"
   ]
  },
  {
   "cell_type": "markdown",
   "metadata": {},
   "source": [
    "<br>\n",
    "\n",
    "## How to control <code>Main thread </code> <br>\n",
    "\n",
    "&emsp;&emsp;The <code>Main thread</code> is created automatically when our program is started. To control it we must obtain a reference to it. This can be done by calling the method <code>currentThread()</code>  which is present in <code>Thread</code> class. This method returns a reference to the thread on which it is called. The default priority of <code>Main thread</code> is 5 and for all remaining user threads priority will be inherited from parent to child.\n"
   ]
  },
  {
   "cell_type": "markdown",
   "metadata": {},
   "source": [
    "<br>\n",
    "\n",
    "## Demonstration"
   ]
  },
  {
   "cell_type": "code",
   "execution_count": null,
   "metadata": {
    "vscode": {
     "languageId": "java"
    }
   },
   "outputs": [],
   "source": [
    "// Java program to control the Main Thread\n",
    " \n",
    "// Importing required classes\n",
    "import java.io.*;\n",
    "import java.util.*;\n",
    " \n",
    "// Class 1\n",
    "// Main class extending thread class\n",
    "public class Test extends Thread {\n",
    " \n",
    "    // Main driver method\n",
    "    public static void main() {\n",
    " \n",
    "        // Getting reference to Main thread\n",
    "        Thread t = Thread.currentThread();\n",
    " \n",
    "        // Getting name of Main thread\n",
    "        System.out.println(\"Current thread: \"\n",
    "                           + t.getName());\n",
    " \n",
    "        // Changing the name of Main thread\n",
    "        t.setName(\"Geeks\");\n",
    "        System.out.println(\"After name change: \"\n",
    "                           + t.getName());\n",
    " \n",
    "        // Getting priority of Main thread\n",
    "        System.out.println(\"Main thread priority: \"\n",
    "                           + t.getPriority());\n",
    " \n",
    "        // Setting priority of Main thread to MAX(10)\n",
    "        t.setPriority(MAX_PRIORITY);\n",
    " \n",
    "        // Print and display the main thread priority\n",
    "        System.out.println(\"Main thread new priority: \"\n",
    "                           + t.getPriority());\n",
    " \n",
    "        for (int i = 0; i < 5; i++) {\n",
    "            System.out.println(\"Main thread\");\n",
    "        }\n",
    " \n",
    "        // Main thread creating a child thread\n",
    "        Thread ct = new Thread() {\n",
    "            // run() method of a thread\n",
    "            public void run() {\n",
    " \n",
    "                for (int i = 0; i < 5; i++) {\n",
    "                    System.out.println(\"Child thread\");\n",
    "                }\n",
    "            }\n",
    "        };\n",
    " \n",
    "        // Getting priority of child thread\n",
    "        // which will be inherited from Main thread\n",
    "        // as it is created by Main thread\n",
    "        System.out.println(\"Child thread priority: \"\n",
    "                           + ct.getPriority());\n",
    " \n",
    "        // Setting priority of Main thread to MIN(1)\n",
    "        ct.setPriority(MIN_PRIORITY);\n",
    " \n",
    "        System.out.println(\"Child thread new priority: \"\n",
    "                           + ct.getPriority());\n",
    " \n",
    "        // Starting child thread\n",
    "        ct.start();\n",
    "    }\n",
    "}\n",
    " \n",
    "// Class 2\n",
    "// Helper class extending Thread class\n",
    "// Child Thread class\n",
    "class ChildThread extends Thread {\n",
    " \n",
    "    @Override public void run() {\n",
    " \n",
    "        for (int i = 0; i < 5; i++) {\n",
    " \n",
    "            // Print statement whenever child thread is\n",
    "            // called\n",
    "            System.out.println(\"Child thread\");\n",
    "        }\n",
    "    }\n",
    "}\n",
    "\n",
    "Test.main();"
   ]
  },
  {
   "cell_type": "markdown",
   "metadata": {},
   "source": [
    "## The relationship between <code>main()</code> and <code>Main thread</code><br>\n",
    "&emsp;&emsp;For each program, a <code>Main thread</code> is created by JVM (Java Virtual Machine). The <code>Main thread</code> will first verify the existence of the <code>main()</code> method, and then initialize the class. Note that from JDK 6, <code>main()</code> is mandatory in a standalone java application.<br>\n",
    "\n",
    "## Deadlocking with use of <code>Main Thread</code> (only single thread) <br>\n",
    "&emsp;&emsp;We can create a deadlock by just using the <code>Maint thread</code>, i.e. by just using a single thread.<br>\n",
    "\n",
    "### Example"
   ]
  },
  {
   "cell_type": "code",
   "execution_count": null,
   "metadata": {
    "vscode": {
     "languageId": "java"
    }
   },
   "outputs": [],
   "source": [
    "// Java program to demonstrate deadlock\n",
    "// using Main thread\n",
    " \n",
    "// Main class\n",
    "public class GFG {\n",
    " \n",
    "    // Main driver method\n",
    "    public static void main() {\n",
    "   \n",
    "        // Try block to check for exceptions\n",
    "        try {\n",
    "\n",
    "        // Print statement\n",
    "        System.out.println(\"Entering into Deadlock\");\n",
    "\n",
    "        // Joining the current thread\n",
    "        Thread.currentThread().join();\n",
    "\n",
    "        // This statement will never execute\n",
    "        System.out.println(\"This statement will never execute\");\n",
    "        }\n",
    "\n",
    "        // Catch block to handle the exceptions\n",
    "        catch (InterruptedException e) {\n",
    "\n",
    "        // Display the exception along with line number\n",
    "        // using printStackTrace() method\n",
    "        e.printStackTrace();\n",
    "        }\n",
    "    }\n",
    "}\n",
    "\n",
    "GFG.main();"
   ]
  },
  {
   "cell_type": "markdown",
   "metadata": {},
   "source": [
    "<br>\n",
    "\n",
    "### Output explanation: <br>\n",
    "&emsp;&emsp;The statement <code>Thread.currentThread().join()</code>, will tell <code>Main thread</code> to wait for this thread Ui.e. wait for itself) to die. Thus <code>Main thread</code> wait for itself to die, which is nothing but a deadlock."
   ]
  }
 ],
 "metadata": {
  "kernelspec": {
   "display_name": "Java",
   "language": "java",
   "name": "java"
  },
  "language_info": {
   "codemirror_mode": "java",
   "file_extension": ".jshell",
   "mimetype": "text/x-java-source",
   "name": "Java",
   "pygments_lexer": "java",
   "version": "17.0.3+7"
  },
  "orig_nbformat": 4,
  "vscode": {
   "interpreter": {
    "hash": "aee8b7b246df8f9039afb4144a1f6fd8d2ca17a180786b69acc140d282b71a49"
   }
  }
 },
 "nbformat": 4,
 "nbformat_minor": 2
}
