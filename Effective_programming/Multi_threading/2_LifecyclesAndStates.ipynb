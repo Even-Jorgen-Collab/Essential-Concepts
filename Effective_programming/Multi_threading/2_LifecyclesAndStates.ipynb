{
 "cells": [
  {
   "cell_type": "markdown",
   "metadata": {},
   "source": [
    "# Lifecycle and States of a Thread in Java\n",
    "------------------------------------------\n",
    "&emsp;A <code>thread</code> in Java at any point of time exists in any one of the following states. A <code>thread</code> lies only in one of the shown states at any instant:\n",
    "1. New\n",
    "2. Runnable\n",
    "3. Blocked\n",
    "4. Waiting\n",
    "5. Timed Waiting\n",
    "6. Terminated<p><p>\n",
    "\n",
    "This diagram represents various states of a <code>thread</code> at any instant in time.<p>\n",
    "<img src=\"https://media.geeksforgeeks.org/wp-content/uploads/threadLifeCycle.jpg\" height=\"319px\">"
   ]
  },
  {
   "cell_type": "markdown",
   "metadata": {},
   "source": [
    "# Life Cycle of a thread\n",
    "1. <b>New Thread:</b><br>&emsp;When a new thread is created, it is in the new state. The thread has not yet started to run when the thread is in this state. When a thread lies in the new state, its code is yet to be run and hasn’t started to execute.<p>\n",
    "2. <b>Runnable State:</b><br>&emsp;A thread that is ready to run is moved to a runnable state. In this state, a thread might actually be running or it might be ready to run at any instant of time. It is the responsibility of the thread scheduler to give the thread, time to run. A multi-threaded program allocates a fixed amount of time to each individual thread. Each and every thread runs for a short while and then pauses and relinquishes the CPU to another thread so that other threads can get a chance to run. When this happens, all such threads that are ready to run, waiting for the CPU and the currently running thread lie in a runnable state.<p>\n",
    "3. <b>Blocked/Waiting state:</b><br>&emsp;When a thread is temporarily inactive, then it’s in one of the following states: \n",
    "   * Blocked\n",
    "   * Waiting\n",
    "   <p>\n",
    "4. <b>Timed Waiting:</b><br>&emsp;A thread lies in a timed waiting state when it calls a method with a time-out parameter. A thread lies in this state until the timeout is completed or until a notification is received. For example, when a thread calls sleep or a conditional wait, it is moved to a timed waiting state.<p>\n",
    "5. <b>Terminated State:</b><br>&emsp;A thread terminates because of either of the following reasons: \n",
    "   * Because it exits normally. This happens when the code of the thread has been entirely executed by the program.\n",
    "   * Because there occurred some unusual erroneous event, like segmentation fault or an unhandled exception."
   ]
  },
  {
   "cell_type": "markdown",
   "metadata": {},
   "source": [
    "# Implementing the <code>Thread</code> States in Java\n",
    "&emsp;&emsp;In Java, to get the current state of the thread, use <code>Thread.getState()</code> method to get the current state of the thread. Java provides the <code>java.lang.Thread.State</code> class that defines the <code>ENUM</code> constants for the state of a <code>Thread</code> object, as a summary of which is given below:\n",
    " "
   ]
  },
  {
   "cell_type": "markdown",
   "metadata": {},
   "source": [
    "<h3>1. New Thread</h3>"
   ]
  },
  {
   "cell_type": "code",
   "execution_count": null,
   "metadata": {
    "vscode": {
     "languageId": "java"
    }
   },
   "outputs": [],
   "source": [
    "public static final Thread.State NEW;"
   ]
  },
  {
   "cell_type": "markdown",
   "metadata": {},
   "source": [
    "<b>Description:</b> <code>Thread</code> state for a <code>thread</code> that has not yet started."
   ]
  },
  {
   "cell_type": "markdown",
   "metadata": {},
   "source": [
    "<h3>2. Runnable State</h3>"
   ]
  },
  {
   "cell_type": "code",
   "execution_count": null,
   "metadata": {
    "vscode": {
     "languageId": "java"
    }
   },
   "outputs": [],
   "source": [
    "public static final Thread.State RUNNABLE;"
   ]
  },
  {
   "cell_type": "markdown",
   "metadata": {},
   "source": [
    "<b>Description:</b> <code>Thread</code> state for a runnable <code>thread</code>. A <code>thread</code> in the runnable state is executing in the Java virtual machine but it may be waiting for other resources from the operating system such as a processor. "
   ]
  },
  {
   "cell_type": "markdown",
   "metadata": {},
   "source": [
    "<h3>3. Blocked/Waiting State</h3>"
   ]
  },
  {
   "cell_type": "markdown",
   "metadata": {},
   "source": [
    "<h3>&emsp;&emsp;3.1. Blocked State</h3>"
   ]
  },
  {
   "cell_type": "code",
   "execution_count": null,
   "metadata": {
    "vscode": {
     "languageId": "java"
    }
   },
   "outputs": [],
   "source": [
    "public static final Thread.State BLOCKED;"
   ]
  },
  {
   "cell_type": "markdown",
   "metadata": {},
   "source": [
    "<p style=\"margin-left: 50px\"><b>Description:</b> <code>Thread</code> state for a <code>thread</code> blocked waiting for a monitor lock. A <code>thread</code> in the blocked state is waiting for a monitor lock to enter a synchronized block/method or reenter a synchronized block/method after calling <code>Object.wait()</code>.</p>"
   ]
  },
  {
   "cell_type": "markdown",
   "metadata": {},
   "source": [
    "<h3>&emsp;&emsp;3.2. Waiting State</h3>"
   ]
  },
  {
   "cell_type": "code",
   "execution_count": null,
   "metadata": {
    "vscode": {
     "languageId": "java"
    }
   },
   "outputs": [],
   "source": [
    "public static final Thread.State WAITING;"
   ]
  },
  {
   "cell_type": "markdown",
   "metadata": {},
   "source": [
    "<p style=\"margin-left: 50px\">\n",
    "<b>Description:</b> <code>Thread</code> state for a waiting <code>thread</code>. A <code>thread</code> is in the waiting state due to calling one of the following methods: <br>\n",
    "<ul style=\"margin-left: 55px\">\n",
    "  <li><code>Object.wait()</code> with no timeout</li>\n",
    "  <li><code>Thread.join()</code> with no timeout</li>\n",
    "  <li><code>LockSupport.park()</code></li>\n",
    "</ul>\n",
    "</p>"
   ]
  },
  {
   "cell_type": "markdown",
   "metadata": {},
   "source": [
    "<h3>4. Timed Waiting State</h3>"
   ]
  },
  {
   "cell_type": "code",
   "execution_count": null,
   "metadata": {
    "vscode": {
     "languageId": "java"
    }
   },
   "outputs": [],
   "source": [
    "public static final Thread.State TIMED_WAITING;"
   ]
  },
  {
   "cell_type": "markdown",
   "metadata": {},
   "source": [
    "<b>Decription:</b> <code>Thread</code> state for a waiting <code>thread</code> with a specified waiting time. A <code>thread</code> is in the timed waiting state due to calling one of the following methods with a specified positive waiting time: <br>\n",
    "<ul style=\"margin-left: 5px\">\n",
    "    <li><code>Thread.sleep()</code></li>\n",
    "    <li><code>Object.wait()</code> with timeout</li>\n",
    "    <li><code>Thread.join()</code> with timeout</li>\n",
    "    <li><code>LockSupport.parkNanos()</code></li>\n",
    "    <li><code>LockSupport.parkUntil()</code></li>\n",
    "</ul>\n"
   ]
  },
  {
   "cell_type": "markdown",
   "metadata": {},
   "source": [
    "<h3>6. Terminated State</h3>"
   ]
  },
  {
   "cell_type": "code",
   "execution_count": null,
   "metadata": {
    "vscode": {
     "languageId": "java"
    }
   },
   "outputs": [],
   "source": [
    "public static final Thread.State TERMINATED;"
   ]
  },
  {
   "cell_type": "markdown",
   "metadata": {},
   "source": [
    "<b>Description:</b> <code>Thread</code> state for a terminated <code>thread</code>. The <code>thread</code> has completed execution. "
   ]
  },
  {
   "cell_type": "markdown",
   "metadata": {},
   "source": [
    "# Demonstration"
   ]
  },
  {
   "cell_type": "code",
   "execution_count": null,
   "metadata": {
    "vscode": {
     "languageId": "java"
    }
   },
   "outputs": [],
   "source": [
    "public class Test implements Runnable {\n",
    "\tpublic static Thread thread1;\n",
    "\tpublic static Test obj;\n",
    "\n",
    "\tpublic static void main() {\n",
    "\t\tobj = new Test();\n",
    "\t\tthread1 = new Thread(obj);\n",
    "\n",
    "\t\t// thread1 created and is currently in the NEW\n",
    "\t\t// state.\n",
    "\t\tSystem.out.println(\"State of thread1 after creating it - \"+ thread1.getState());\n",
    "\t\tthread1.start();\n",
    "\n",
    "\t\t// thread1 moved to Runnable state\n",
    "\t\tSystem.out.println(\"State of thread1 after calling .start() method on it - \"+ thread1.getState());\n",
    "\t}\n",
    "\n",
    "\tpublic void run() {\n",
    "\t\tthread myThread = new thread();\n",
    "\t\tThread thread2 = new Thread(myThread);\n",
    "\n",
    "\t\t// thread1 created and is currently in the NEW\n",
    "\t\t// state.\n",
    "\t\tSystem.out.println(\"State of thread2 after creating it - \"+ thread2.getState());\n",
    "\t\tthread2.start();\n",
    "\n",
    "\t\t// thread2 moved to Runnable state\n",
    "\t\tSystem.out.println(\"State of thread2 after calling .start() method on it - \"+ thread2.getState());\n",
    "\n",
    "\t\t// moving thread1 to timed waiting state\n",
    "\t\ttry {\n",
    "\t\t\t// moving thread1 to timed waiting state\n",
    "\t\t\tThread.sleep(200);\n",
    "\t\t}\n",
    "\t\tcatch (InterruptedException e) {\n",
    "\t\t\te.printStackTrace();\n",
    "\t\t}\n",
    "\t\tSystem.out.println(\"State of thread2 after calling .sleep() method on it - \"+ thread2.getState());\n",
    "\n",
    "\t\ttry {\n",
    "\t\t\t// waiting for thread2 to die\n",
    "\t\t\tthread2.join();\n",
    "\t\t}\n",
    "\t\tcatch (InterruptedException e) {\n",
    "\t\t\te.printStackTrace();\n",
    "\t\t}\n",
    "\t\tSystem.out.println(\"State of thread2 when it has finished it's execution - \"+ thread2.getState());\n",
    "\t}\n",
    "}\n",
    "\n",
    "// Java program to demonstrate thread states\n",
    "class thread implements Runnable {\n",
    "\tpublic void run() {\n",
    "\t\t// moving thread2 to timed waiting state\n",
    "\t\ttry {\n",
    "\t\t\tThread.sleep(1500);\n",
    "\t\t}\n",
    "\t\tcatch (InterruptedException e) {\n",
    "\t\t\te.printStackTrace();\n",
    "\t\t}\n",
    "\n",
    "\t\tSystem.out.println(\"State of thread1 while it called join() method on thread2 -\"+ Test.thread1.getState());\n",
    "\t\ttry {\n",
    "\t\t\tThread.sleep(200);\n",
    "\t\t}\n",
    "\t\tcatch (InterruptedException e) {\n",
    "\t\t\te.printStackTrace();\n",
    "\t\t}\n",
    "\t}\n",
    "}\n",
    "\n",
    "Test.main();\n"
   ]
  },
  {
   "cell_type": "markdown",
   "metadata": {},
   "source": [
    "<h3><b>Explanation:</b></h3> &emsp;&emsp;When a new <code>thread</code> is created, the <code>thread</code> is in the <b>New</b> state. When the <code>start()</code> method is called on a <code>thread</code>, the <code>thread</code> scheduler moves it to <b>Runnable</b> state. Whenever the <code>join()</code> method is called on a <code>thread</code> instance, the current <code>thread</code> executing that statement will wait for this <code>thread</code> to move to the <b>Terminated</b> state. So, before the final statement is printed on the console, the program calls <code>join()</code> on <font color=#ff00ff>thread2</font> making the <font color=#00ff00>thread1</font> wait while <font color=#ff00ff>thread2</font> completes its execution and is moved to the <b>Terminated</b> state. <font color=#00ff00>thread1</font> goes to <b>Waiting</b> state because it is waiting for <font color=#ff00ff>thread2</font> to complete its execution as it has called join on <font color=#ff00ff>thread2</font>. "
   ]
  }
 ],
 "metadata": {
  "kernelspec": {
   "display_name": "Java",
   "language": "java",
   "name": "java"
  },
  "language_info": {
   "codemirror_mode": "java",
   "file_extension": ".jshell",
   "mimetype": "text/x-java-source",
   "name": "Java",
   "pygments_lexer": "java",
   "version": "17.0.3+7"
  },
  "orig_nbformat": 4,
  "vscode": {
   "interpreter": {
    "hash": "aee8b7b246df8f9039afb4144a1f6fd8d2ca17a180786b69acc140d282b71a49"
   }
  }
 },
 "nbformat": 4,
 "nbformat_minor": 2
}
